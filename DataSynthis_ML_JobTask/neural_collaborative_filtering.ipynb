{
 "cells": [
  {
   "cell_type": "code",
   "execution_count": 57,
   "id": "3184a875",
   "metadata": {},
   "outputs": [],
   "source": [
    "import pandas as pd\n",
    "import numpy as np\n",
    "from sklearn.model_selection import train_test_split\n",
    "import tensorflow as tf\n",
    "from tensorflow import keras\n",
    "from tensorflow.keras import layers, Model\n",
    "from tensorflow.keras.optimizers import Adam\n",
    "from tensorflow.keras.regularizers import l2\n",
    "import warnings\n",
    "warnings.filterwarnings('ignore')"
   ]
  },
  {
   "cell_type": "code",
   "execution_count": 58,
   "id": "0fe02a84",
   "metadata": {},
   "outputs": [],
   "source": [
    "ratings = pd.read_csv('ml-100k/u.data', sep='\\t', names=['user_id', 'item_id', 'rating', 'timestamp'])\n",
    "movies = pd.read_csv('ml-100k/u.item', sep='|', encoding='latin-1', header=None, \n",
    "                     names=['movie_id', 'title', 'release_date', 'video_release_date', \n",
    "                            'imdb_url', 'unknown', 'Action', 'Adventure', 'Animation',\n",
    "                            'Children', 'Comedy', 'Crime', 'Documentary', 'Drama', 'Fantasy',\n",
    "                            'Film-Noir', 'Horror', 'Musical', 'Mystery', 'Romance', 'Sci-Fi',\n",
    "                            'Thriller', 'War', 'Western'])\n"
   ]
  },
  {
   "cell_type": "code",
   "execution_count": 60,
   "id": "de405d13",
   "metadata": {},
   "outputs": [],
   "source": [
    "from sklearn.model_selection import train_test_split\n",
    "\n",
    "train_data, test_data = train_test_split(ratings, test_size=0.2, random_state=42)\n",
    "\n"
   ]
  },
  {
   "cell_type": "code",
   "execution_count": 61,
   "id": "6585eb08",
   "metadata": {},
   "outputs": [],
   "source": [
    "user_ids = ratings['user_id'].unique()\n",
    "movie_ids = ratings['item_id'].unique()\n",
    "\n",
    "user2idx = {user_id: idx for idx, user_id in enumerate(user_ids)}\n",
    "idx2user = {idx: user_id for user_id, idx in user2idx.items()}\n",
    "\n",
    "movie2idx = {movie_id: idx for idx, movie_id in enumerate(movie_ids)}\n",
    "idx2movie = {idx: movie_id for movie_id, idx in movie2idx.items()}\n"
   ]
  },
  {
   "cell_type": "code",
   "execution_count": 62,
   "id": "5be4d6a5",
   "metadata": {},
   "outputs": [],
   "source": [
    "train_data = train_data.copy()\n",
    "train_data['user_idx'] = train_data['user_id'].map(user2idx)\n",
    "train_data['movie_idx'] = train_data['item_id'].map(movie2idx)\n",
    "train_data['rating_normalized'] = (train_data['rating'] - 1) / 4\n",
    "\n",
    "test_data = test_data.copy()\n",
    "test_data['user_idx'] = test_data['user_id'].map(user2idx)\n",
    "test_data['movie_idx'] = test_data['item_id'].map(movie2idx)\n",
    "test_data['rating_normalized'] = (test_data['rating'] - 1) / 4\n"
   ]
  },
  {
   "cell_type": "code",
   "execution_count": 63,
   "id": "6aa0379b",
   "metadata": {},
   "outputs": [],
   "source": [
    "X_train_user = train_data['user_idx'].values\n",
    "X_train_movie = train_data['movie_idx'].values\n",
    "y_train = train_data['rating_normalized'].values\n",
    "\n",
    "X_test_user = test_data['user_idx'].values\n",
    "X_test_movie = test_data['movie_idx'].values\n",
    "y_test = test_data['rating_normalized'].values\n",
    "\n",
    "num_users = len(user_ids)\n",
    "num_movies = len(movie_ids)"
   ]
  },
  {
   "cell_type": "code",
   "execution_count": 64,
   "id": "3acf8d5e",
   "metadata": {},
   "outputs": [],
   "source": [
    "def create_ncf_model(num_users, num_movies, embedding_dim=50, hidden_layers=[64, 32, 16]):\n",
    "    user_input = layers.Input(shape=(1,), name='user_input')\n",
    "    movie_input = layers.Input(shape=(1,), name='movie_input')\n",
    "    \n",
    "    user_embedding_gmf = layers.Embedding(\n",
    "        num_users, embedding_dim, \n",
    "        embeddings_regularizer=l2(1e-6),\n",
    "        name='user_embedding_gmf'\n",
    "    )(user_input)\n",
    "    movie_embedding_gmf = layers.Embedding(\n",
    "        num_movies, embedding_dim,\n",
    "        embeddings_regularizer=l2(1e-6),\n",
    "        name='movie_embedding_gmf'\n",
    "    )(movie_input)\n",
    "    \n",
    "    user_vec_gmf = layers.Flatten()(user_embedding_gmf)\n",
    "    movie_vec_gmf = layers.Flatten()(movie_embedding_gmf)\n",
    "    \n",
    "    gmf_vector = layers.Multiply()([user_vec_gmf, movie_vec_gmf])\n",
    "    \n",
    "    user_embedding_mlp = layers.Embedding(\n",
    "        num_users, embedding_dim,\n",
    "        embeddings_regularizer=l2(1e-6),\n",
    "        name='user_embedding_mlp'\n",
    "    )(user_input)\n",
    "    movie_embedding_mlp = layers.Embedding(\n",
    "        num_movies, embedding_dim,\n",
    "        embeddings_regularizer=l2(1e-6),\n",
    "        name='movie_embedding_mlp'\n",
    "    )(movie_input)\n",
    "    \n",
    "    user_vec_mlp = layers.Flatten()(user_embedding_mlp)\n",
    "    movie_vec_mlp = layers.Flatten()(movie_embedding_mlp)\n",
    "    \n",
    "    mlp_vector = layers.Concatenate()([user_vec_mlp, movie_vec_mlp])\n",
    "    \n",
    "    for units in hidden_layers:\n",
    "        mlp_vector = layers.Dense(\n",
    "            units, \n",
    "            activation='relu',\n",
    "            kernel_regularizer=l2(1e-6)\n",
    "        )(mlp_vector)\n",
    "        mlp_vector = layers.Dropout(0.2)(mlp_vector)\n",
    "    \n",
    "    combined = layers.Concatenate()([gmf_vector, mlp_vector])\n",
    "    \n",
    "    output = layers.Dense(1, activation='sigmoid', name='output')(combined)\n",
    "    \n",
    "    model = Model(inputs=[user_input, movie_input], outputs=output)\n",
    "    \n",
    "    return model"
   ]
  },
  {
   "cell_type": "code",
   "execution_count": 66,
   "id": "4e604607",
   "metadata": {},
   "outputs": [
    {
     "name": "stdout",
     "output_type": "stream",
     "text": [
      "\n",
      "Model Architecture:\n"
     ]
    },
    {
     "data": {
      "text/html": [
       "<pre style=\"white-space:pre;overflow-x:auto;line-height:normal;font-family:Menlo,'DejaVu Sans Mono',consolas,'Courier New',monospace\"><span style=\"font-weight: bold\">Model: \"functional_6\"</span>\n",
       "</pre>\n"
      ],
      "text/plain": [
       "\u001b[1mModel: \"functional_6\"\u001b[0m\n"
      ]
     },
     "metadata": {},
     "output_type": "display_data"
    },
    {
     "data": {
      "text/html": [
       "<pre style=\"white-space:pre;overflow-x:auto;line-height:normal;font-family:Menlo,'DejaVu Sans Mono',consolas,'Courier New',monospace\">┏━━━━━━━━━━━━━━━━━━━━━┳━━━━━━━━━━━━━━━━━━━┳━━━━━━━━━━━━┳━━━━━━━━━━━━━━━━━━━┓\n",
       "┃<span style=\"font-weight: bold\"> Layer (type)        </span>┃<span style=\"font-weight: bold\"> Output Shape      </span>┃<span style=\"font-weight: bold\">    Param # </span>┃<span style=\"font-weight: bold\"> Connected to      </span>┃\n",
       "┡━━━━━━━━━━━━━━━━━━━━━╇━━━━━━━━━━━━━━━━━━━╇━━━━━━━━━━━━╇━━━━━━━━━━━━━━━━━━━┩\n",
       "│ user_input          │ (<span style=\"color: #00d7ff; text-decoration-color: #00d7ff\">None</span>, <span style=\"color: #00af00; text-decoration-color: #00af00\">1</span>)         │          <span style=\"color: #00af00; text-decoration-color: #00af00\">0</span> │ -                 │\n",
       "│ (<span style=\"color: #0087ff; text-decoration-color: #0087ff\">InputLayer</span>)        │                   │            │                   │\n",
       "├─────────────────────┼───────────────────┼────────────┼───────────────────┤\n",
       "│ movie_input         │ (<span style=\"color: #00d7ff; text-decoration-color: #00d7ff\">None</span>, <span style=\"color: #00af00; text-decoration-color: #00af00\">1</span>)         │          <span style=\"color: #00af00; text-decoration-color: #00af00\">0</span> │ -                 │\n",
       "│ (<span style=\"color: #0087ff; text-decoration-color: #0087ff\">InputLayer</span>)        │                   │            │                   │\n",
       "├─────────────────────┼───────────────────┼────────────┼───────────────────┤\n",
       "│ user_embedding_mlp  │ (<span style=\"color: #00d7ff; text-decoration-color: #00d7ff\">None</span>, <span style=\"color: #00af00; text-decoration-color: #00af00\">1</span>, <span style=\"color: #00af00; text-decoration-color: #00af00\">50</span>)     │     <span style=\"color: #00af00; text-decoration-color: #00af00\">47,150</span> │ user_input[<span style=\"color: #00af00; text-decoration-color: #00af00\">0</span>][<span style=\"color: #00af00; text-decoration-color: #00af00\">0</span>]  │\n",
       "│ (<span style=\"color: #0087ff; text-decoration-color: #0087ff\">Embedding</span>)         │                   │            │                   │\n",
       "├─────────────────────┼───────────────────┼────────────┼───────────────────┤\n",
       "│ movie_embedding_mlp │ (<span style=\"color: #00d7ff; text-decoration-color: #00d7ff\">None</span>, <span style=\"color: #00af00; text-decoration-color: #00af00\">1</span>, <span style=\"color: #00af00; text-decoration-color: #00af00\">50</span>)     │     <span style=\"color: #00af00; text-decoration-color: #00af00\">84,100</span> │ movie_input[<span style=\"color: #00af00; text-decoration-color: #00af00\">0</span>][<span style=\"color: #00af00; text-decoration-color: #00af00\">0</span>] │\n",
       "│ (<span style=\"color: #0087ff; text-decoration-color: #0087ff\">Embedding</span>)         │                   │            │                   │\n",
       "├─────────────────────┼───────────────────┼────────────┼───────────────────┤\n",
       "│ flatten_26          │ (<span style=\"color: #00d7ff; text-decoration-color: #00d7ff\">None</span>, <span style=\"color: #00af00; text-decoration-color: #00af00\">50</span>)        │          <span style=\"color: #00af00; text-decoration-color: #00af00\">0</span> │ user_embedding_m… │\n",
       "│ (<span style=\"color: #0087ff; text-decoration-color: #0087ff\">Flatten</span>)           │                   │            │                   │\n",
       "├─────────────────────┼───────────────────┼────────────┼───────────────────┤\n",
       "│ flatten_27          │ (<span style=\"color: #00d7ff; text-decoration-color: #00d7ff\">None</span>, <span style=\"color: #00af00; text-decoration-color: #00af00\">50</span>)        │          <span style=\"color: #00af00; text-decoration-color: #00af00\">0</span> │ movie_embedding_… │\n",
       "│ (<span style=\"color: #0087ff; text-decoration-color: #0087ff\">Flatten</span>)           │                   │            │                   │\n",
       "├─────────────────────┼───────────────────┼────────────┼───────────────────┤\n",
       "│ concatenate_12      │ (<span style=\"color: #00d7ff; text-decoration-color: #00d7ff\">None</span>, <span style=\"color: #00af00; text-decoration-color: #00af00\">100</span>)       │          <span style=\"color: #00af00; text-decoration-color: #00af00\">0</span> │ flatten_26[<span style=\"color: #00af00; text-decoration-color: #00af00\">0</span>][<span style=\"color: #00af00; text-decoration-color: #00af00\">0</span>], │\n",
       "│ (<span style=\"color: #0087ff; text-decoration-color: #0087ff\">Concatenate</span>)       │                   │            │ flatten_27[<span style=\"color: #00af00; text-decoration-color: #00af00\">0</span>][<span style=\"color: #00af00; text-decoration-color: #00af00\">0</span>]  │\n",
       "├─────────────────────┼───────────────────┼────────────┼───────────────────┤\n",
       "│ dense_18 (<span style=\"color: #0087ff; text-decoration-color: #0087ff\">Dense</span>)    │ (<span style=\"color: #00d7ff; text-decoration-color: #00d7ff\">None</span>, <span style=\"color: #00af00; text-decoration-color: #00af00\">64</span>)        │      <span style=\"color: #00af00; text-decoration-color: #00af00\">6,464</span> │ concatenate_12[<span style=\"color: #00af00; text-decoration-color: #00af00\">0</span>… │\n",
       "├─────────────────────┼───────────────────┼────────────┼───────────────────┤\n",
       "│ dropout_18          │ (<span style=\"color: #00d7ff; text-decoration-color: #00d7ff\">None</span>, <span style=\"color: #00af00; text-decoration-color: #00af00\">64</span>)        │          <span style=\"color: #00af00; text-decoration-color: #00af00\">0</span> │ dense_18[<span style=\"color: #00af00; text-decoration-color: #00af00\">0</span>][<span style=\"color: #00af00; text-decoration-color: #00af00\">0</span>]    │\n",
       "│ (<span style=\"color: #0087ff; text-decoration-color: #0087ff\">Dropout</span>)           │                   │            │                   │\n",
       "├─────────────────────┼───────────────────┼────────────┼───────────────────┤\n",
       "│ dense_19 (<span style=\"color: #0087ff; text-decoration-color: #0087ff\">Dense</span>)    │ (<span style=\"color: #00d7ff; text-decoration-color: #00d7ff\">None</span>, <span style=\"color: #00af00; text-decoration-color: #00af00\">32</span>)        │      <span style=\"color: #00af00; text-decoration-color: #00af00\">2,080</span> │ dropout_18[<span style=\"color: #00af00; text-decoration-color: #00af00\">0</span>][<span style=\"color: #00af00; text-decoration-color: #00af00\">0</span>]  │\n",
       "├─────────────────────┼───────────────────┼────────────┼───────────────────┤\n",
       "│ user_embedding_gmf  │ (<span style=\"color: #00d7ff; text-decoration-color: #00d7ff\">None</span>, <span style=\"color: #00af00; text-decoration-color: #00af00\">1</span>, <span style=\"color: #00af00; text-decoration-color: #00af00\">50</span>)     │     <span style=\"color: #00af00; text-decoration-color: #00af00\">47,150</span> │ user_input[<span style=\"color: #00af00; text-decoration-color: #00af00\">0</span>][<span style=\"color: #00af00; text-decoration-color: #00af00\">0</span>]  │\n",
       "│ (<span style=\"color: #0087ff; text-decoration-color: #0087ff\">Embedding</span>)         │                   │            │                   │\n",
       "├─────────────────────┼───────────────────┼────────────┼───────────────────┤\n",
       "│ movie_embedding_gmf │ (<span style=\"color: #00d7ff; text-decoration-color: #00d7ff\">None</span>, <span style=\"color: #00af00; text-decoration-color: #00af00\">1</span>, <span style=\"color: #00af00; text-decoration-color: #00af00\">50</span>)     │     <span style=\"color: #00af00; text-decoration-color: #00af00\">84,100</span> │ movie_input[<span style=\"color: #00af00; text-decoration-color: #00af00\">0</span>][<span style=\"color: #00af00; text-decoration-color: #00af00\">0</span>] │\n",
       "│ (<span style=\"color: #0087ff; text-decoration-color: #0087ff\">Embedding</span>)         │                   │            │                   │\n",
       "├─────────────────────┼───────────────────┼────────────┼───────────────────┤\n",
       "│ dropout_19          │ (<span style=\"color: #00d7ff; text-decoration-color: #00d7ff\">None</span>, <span style=\"color: #00af00; text-decoration-color: #00af00\">32</span>)        │          <span style=\"color: #00af00; text-decoration-color: #00af00\">0</span> │ dense_19[<span style=\"color: #00af00; text-decoration-color: #00af00\">0</span>][<span style=\"color: #00af00; text-decoration-color: #00af00\">0</span>]    │\n",
       "│ (<span style=\"color: #0087ff; text-decoration-color: #0087ff\">Dropout</span>)           │                   │            │                   │\n",
       "├─────────────────────┼───────────────────┼────────────┼───────────────────┤\n",
       "│ flatten_24          │ (<span style=\"color: #00d7ff; text-decoration-color: #00d7ff\">None</span>, <span style=\"color: #00af00; text-decoration-color: #00af00\">50</span>)        │          <span style=\"color: #00af00; text-decoration-color: #00af00\">0</span> │ user_embedding_g… │\n",
       "│ (<span style=\"color: #0087ff; text-decoration-color: #0087ff\">Flatten</span>)           │                   │            │                   │\n",
       "├─────────────────────┼───────────────────┼────────────┼───────────────────┤\n",
       "│ flatten_25          │ (<span style=\"color: #00d7ff; text-decoration-color: #00d7ff\">None</span>, <span style=\"color: #00af00; text-decoration-color: #00af00\">50</span>)        │          <span style=\"color: #00af00; text-decoration-color: #00af00\">0</span> │ movie_embedding_… │\n",
       "│ (<span style=\"color: #0087ff; text-decoration-color: #0087ff\">Flatten</span>)           │                   │            │                   │\n",
       "├─────────────────────┼───────────────────┼────────────┼───────────────────┤\n",
       "│ dense_20 (<span style=\"color: #0087ff; text-decoration-color: #0087ff\">Dense</span>)    │ (<span style=\"color: #00d7ff; text-decoration-color: #00d7ff\">None</span>, <span style=\"color: #00af00; text-decoration-color: #00af00\">16</span>)        │        <span style=\"color: #00af00; text-decoration-color: #00af00\">528</span> │ dropout_19[<span style=\"color: #00af00; text-decoration-color: #00af00\">0</span>][<span style=\"color: #00af00; text-decoration-color: #00af00\">0</span>]  │\n",
       "├─────────────────────┼───────────────────┼────────────┼───────────────────┤\n",
       "│ multiply_6          │ (<span style=\"color: #00d7ff; text-decoration-color: #00d7ff\">None</span>, <span style=\"color: #00af00; text-decoration-color: #00af00\">50</span>)        │          <span style=\"color: #00af00; text-decoration-color: #00af00\">0</span> │ flatten_24[<span style=\"color: #00af00; text-decoration-color: #00af00\">0</span>][<span style=\"color: #00af00; text-decoration-color: #00af00\">0</span>], │\n",
       "│ (<span style=\"color: #0087ff; text-decoration-color: #0087ff\">Multiply</span>)          │                   │            │ flatten_25[<span style=\"color: #00af00; text-decoration-color: #00af00\">0</span>][<span style=\"color: #00af00; text-decoration-color: #00af00\">0</span>]  │\n",
       "├─────────────────────┼───────────────────┼────────────┼───────────────────┤\n",
       "│ dropout_20          │ (<span style=\"color: #00d7ff; text-decoration-color: #00d7ff\">None</span>, <span style=\"color: #00af00; text-decoration-color: #00af00\">16</span>)        │          <span style=\"color: #00af00; text-decoration-color: #00af00\">0</span> │ dense_20[<span style=\"color: #00af00; text-decoration-color: #00af00\">0</span>][<span style=\"color: #00af00; text-decoration-color: #00af00\">0</span>]    │\n",
       "│ (<span style=\"color: #0087ff; text-decoration-color: #0087ff\">Dropout</span>)           │                   │            │                   │\n",
       "├─────────────────────┼───────────────────┼────────────┼───────────────────┤\n",
       "│ concatenate_13      │ (<span style=\"color: #00d7ff; text-decoration-color: #00d7ff\">None</span>, <span style=\"color: #00af00; text-decoration-color: #00af00\">66</span>)        │          <span style=\"color: #00af00; text-decoration-color: #00af00\">0</span> │ multiply_6[<span style=\"color: #00af00; text-decoration-color: #00af00\">0</span>][<span style=\"color: #00af00; text-decoration-color: #00af00\">0</span>], │\n",
       "│ (<span style=\"color: #0087ff; text-decoration-color: #0087ff\">Concatenate</span>)       │                   │            │ dropout_20[<span style=\"color: #00af00; text-decoration-color: #00af00\">0</span>][<span style=\"color: #00af00; text-decoration-color: #00af00\">0</span>]  │\n",
       "├─────────────────────┼───────────────────┼────────────┼───────────────────┤\n",
       "│ output (<span style=\"color: #0087ff; text-decoration-color: #0087ff\">Dense</span>)      │ (<span style=\"color: #00d7ff; text-decoration-color: #00d7ff\">None</span>, <span style=\"color: #00af00; text-decoration-color: #00af00\">1</span>)         │         <span style=\"color: #00af00; text-decoration-color: #00af00\">67</span> │ concatenate_13[<span style=\"color: #00af00; text-decoration-color: #00af00\">0</span>… │\n",
       "└─────────────────────┴───────────────────┴────────────┴───────────────────┘\n",
       "</pre>\n"
      ],
      "text/plain": [
       "┏━━━━━━━━━━━━━━━━━━━━━┳━━━━━━━━━━━━━━━━━━━┳━━━━━━━━━━━━┳━━━━━━━━━━━━━━━━━━━┓\n",
       "┃\u001b[1m \u001b[0m\u001b[1mLayer (type)       \u001b[0m\u001b[1m \u001b[0m┃\u001b[1m \u001b[0m\u001b[1mOutput Shape     \u001b[0m\u001b[1m \u001b[0m┃\u001b[1m \u001b[0m\u001b[1m   Param #\u001b[0m\u001b[1m \u001b[0m┃\u001b[1m \u001b[0m\u001b[1mConnected to     \u001b[0m\u001b[1m \u001b[0m┃\n",
       "┡━━━━━━━━━━━━━━━━━━━━━╇━━━━━━━━━━━━━━━━━━━╇━━━━━━━━━━━━╇━━━━━━━━━━━━━━━━━━━┩\n",
       "│ user_input          │ (\u001b[38;5;45mNone\u001b[0m, \u001b[38;5;34m1\u001b[0m)         │          \u001b[38;5;34m0\u001b[0m │ -                 │\n",
       "│ (\u001b[38;5;33mInputLayer\u001b[0m)        │                   │            │                   │\n",
       "├─────────────────────┼───────────────────┼────────────┼───────────────────┤\n",
       "│ movie_input         │ (\u001b[38;5;45mNone\u001b[0m, \u001b[38;5;34m1\u001b[0m)         │          \u001b[38;5;34m0\u001b[0m │ -                 │\n",
       "│ (\u001b[38;5;33mInputLayer\u001b[0m)        │                   │            │                   │\n",
       "├─────────────────────┼───────────────────┼────────────┼───────────────────┤\n",
       "│ user_embedding_mlp  │ (\u001b[38;5;45mNone\u001b[0m, \u001b[38;5;34m1\u001b[0m, \u001b[38;5;34m50\u001b[0m)     │     \u001b[38;5;34m47,150\u001b[0m │ user_input[\u001b[38;5;34m0\u001b[0m][\u001b[38;5;34m0\u001b[0m]  │\n",
       "│ (\u001b[38;5;33mEmbedding\u001b[0m)         │                   │            │                   │\n",
       "├─────────────────────┼───────────────────┼────────────┼───────────────────┤\n",
       "│ movie_embedding_mlp │ (\u001b[38;5;45mNone\u001b[0m, \u001b[38;5;34m1\u001b[0m, \u001b[38;5;34m50\u001b[0m)     │     \u001b[38;5;34m84,100\u001b[0m │ movie_input[\u001b[38;5;34m0\u001b[0m][\u001b[38;5;34m0\u001b[0m] │\n",
       "│ (\u001b[38;5;33mEmbedding\u001b[0m)         │                   │            │                   │\n",
       "├─────────────────────┼───────────────────┼────────────┼───────────────────┤\n",
       "│ flatten_26          │ (\u001b[38;5;45mNone\u001b[0m, \u001b[38;5;34m50\u001b[0m)        │          \u001b[38;5;34m0\u001b[0m │ user_embedding_m… │\n",
       "│ (\u001b[38;5;33mFlatten\u001b[0m)           │                   │            │                   │\n",
       "├─────────────────────┼───────────────────┼────────────┼───────────────────┤\n",
       "│ flatten_27          │ (\u001b[38;5;45mNone\u001b[0m, \u001b[38;5;34m50\u001b[0m)        │          \u001b[38;5;34m0\u001b[0m │ movie_embedding_… │\n",
       "│ (\u001b[38;5;33mFlatten\u001b[0m)           │                   │            │                   │\n",
       "├─────────────────────┼───────────────────┼────────────┼───────────────────┤\n",
       "│ concatenate_12      │ (\u001b[38;5;45mNone\u001b[0m, \u001b[38;5;34m100\u001b[0m)       │          \u001b[38;5;34m0\u001b[0m │ flatten_26[\u001b[38;5;34m0\u001b[0m][\u001b[38;5;34m0\u001b[0m], │\n",
       "│ (\u001b[38;5;33mConcatenate\u001b[0m)       │                   │            │ flatten_27[\u001b[38;5;34m0\u001b[0m][\u001b[38;5;34m0\u001b[0m]  │\n",
       "├─────────────────────┼───────────────────┼────────────┼───────────────────┤\n",
       "│ dense_18 (\u001b[38;5;33mDense\u001b[0m)    │ (\u001b[38;5;45mNone\u001b[0m, \u001b[38;5;34m64\u001b[0m)        │      \u001b[38;5;34m6,464\u001b[0m │ concatenate_12[\u001b[38;5;34m0\u001b[0m… │\n",
       "├─────────────────────┼───────────────────┼────────────┼───────────────────┤\n",
       "│ dropout_18          │ (\u001b[38;5;45mNone\u001b[0m, \u001b[38;5;34m64\u001b[0m)        │          \u001b[38;5;34m0\u001b[0m │ dense_18[\u001b[38;5;34m0\u001b[0m][\u001b[38;5;34m0\u001b[0m]    │\n",
       "│ (\u001b[38;5;33mDropout\u001b[0m)           │                   │            │                   │\n",
       "├─────────────────────┼───────────────────┼────────────┼───────────────────┤\n",
       "│ dense_19 (\u001b[38;5;33mDense\u001b[0m)    │ (\u001b[38;5;45mNone\u001b[0m, \u001b[38;5;34m32\u001b[0m)        │      \u001b[38;5;34m2,080\u001b[0m │ dropout_18[\u001b[38;5;34m0\u001b[0m][\u001b[38;5;34m0\u001b[0m]  │\n",
       "├─────────────────────┼───────────────────┼────────────┼───────────────────┤\n",
       "│ user_embedding_gmf  │ (\u001b[38;5;45mNone\u001b[0m, \u001b[38;5;34m1\u001b[0m, \u001b[38;5;34m50\u001b[0m)     │     \u001b[38;5;34m47,150\u001b[0m │ user_input[\u001b[38;5;34m0\u001b[0m][\u001b[38;5;34m0\u001b[0m]  │\n",
       "│ (\u001b[38;5;33mEmbedding\u001b[0m)         │                   │            │                   │\n",
       "├─────────────────────┼───────────────────┼────────────┼───────────────────┤\n",
       "│ movie_embedding_gmf │ (\u001b[38;5;45mNone\u001b[0m, \u001b[38;5;34m1\u001b[0m, \u001b[38;5;34m50\u001b[0m)     │     \u001b[38;5;34m84,100\u001b[0m │ movie_input[\u001b[38;5;34m0\u001b[0m][\u001b[38;5;34m0\u001b[0m] │\n",
       "│ (\u001b[38;5;33mEmbedding\u001b[0m)         │                   │            │                   │\n",
       "├─────────────────────┼───────────────────┼────────────┼───────────────────┤\n",
       "│ dropout_19          │ (\u001b[38;5;45mNone\u001b[0m, \u001b[38;5;34m32\u001b[0m)        │          \u001b[38;5;34m0\u001b[0m │ dense_19[\u001b[38;5;34m0\u001b[0m][\u001b[38;5;34m0\u001b[0m]    │\n",
       "│ (\u001b[38;5;33mDropout\u001b[0m)           │                   │            │                   │\n",
       "├─────────────────────┼───────────────────┼────────────┼───────────────────┤\n",
       "│ flatten_24          │ (\u001b[38;5;45mNone\u001b[0m, \u001b[38;5;34m50\u001b[0m)        │          \u001b[38;5;34m0\u001b[0m │ user_embedding_g… │\n",
       "│ (\u001b[38;5;33mFlatten\u001b[0m)           │                   │            │                   │\n",
       "├─────────────────────┼───────────────────┼────────────┼───────────────────┤\n",
       "│ flatten_25          │ (\u001b[38;5;45mNone\u001b[0m, \u001b[38;5;34m50\u001b[0m)        │          \u001b[38;5;34m0\u001b[0m │ movie_embedding_… │\n",
       "│ (\u001b[38;5;33mFlatten\u001b[0m)           │                   │            │                   │\n",
       "├─────────────────────┼───────────────────┼────────────┼───────────────────┤\n",
       "│ dense_20 (\u001b[38;5;33mDense\u001b[0m)    │ (\u001b[38;5;45mNone\u001b[0m, \u001b[38;5;34m16\u001b[0m)        │        \u001b[38;5;34m528\u001b[0m │ dropout_19[\u001b[38;5;34m0\u001b[0m][\u001b[38;5;34m0\u001b[0m]  │\n",
       "├─────────────────────┼───────────────────┼────────────┼───────────────────┤\n",
       "│ multiply_6          │ (\u001b[38;5;45mNone\u001b[0m, \u001b[38;5;34m50\u001b[0m)        │          \u001b[38;5;34m0\u001b[0m │ flatten_24[\u001b[38;5;34m0\u001b[0m][\u001b[38;5;34m0\u001b[0m], │\n",
       "│ (\u001b[38;5;33mMultiply\u001b[0m)          │                   │            │ flatten_25[\u001b[38;5;34m0\u001b[0m][\u001b[38;5;34m0\u001b[0m]  │\n",
       "├─────────────────────┼───────────────────┼────────────┼───────────────────┤\n",
       "│ dropout_20          │ (\u001b[38;5;45mNone\u001b[0m, \u001b[38;5;34m16\u001b[0m)        │          \u001b[38;5;34m0\u001b[0m │ dense_20[\u001b[38;5;34m0\u001b[0m][\u001b[38;5;34m0\u001b[0m]    │\n",
       "│ (\u001b[38;5;33mDropout\u001b[0m)           │                   │            │                   │\n",
       "├─────────────────────┼───────────────────┼────────────┼───────────────────┤\n",
       "│ concatenate_13      │ (\u001b[38;5;45mNone\u001b[0m, \u001b[38;5;34m66\u001b[0m)        │          \u001b[38;5;34m0\u001b[0m │ multiply_6[\u001b[38;5;34m0\u001b[0m][\u001b[38;5;34m0\u001b[0m], │\n",
       "│ (\u001b[38;5;33mConcatenate\u001b[0m)       │                   │            │ dropout_20[\u001b[38;5;34m0\u001b[0m][\u001b[38;5;34m0\u001b[0m]  │\n",
       "├─────────────────────┼───────────────────┼────────────┼───────────────────┤\n",
       "│ output (\u001b[38;5;33mDense\u001b[0m)      │ (\u001b[38;5;45mNone\u001b[0m, \u001b[38;5;34m1\u001b[0m)         │         \u001b[38;5;34m67\u001b[0m │ concatenate_13[\u001b[38;5;34m0\u001b[0m… │\n",
       "└─────────────────────┴───────────────────┴────────────┴───────────────────┘\n"
      ]
     },
     "metadata": {},
     "output_type": "display_data"
    },
    {
     "data": {
      "text/html": [
       "<pre style=\"white-space:pre;overflow-x:auto;line-height:normal;font-family:Menlo,'DejaVu Sans Mono',consolas,'Courier New',monospace\"><span style=\"font-weight: bold\"> Total params: </span><span style=\"color: #00af00; text-decoration-color: #00af00\">271,639</span> (1.04 MB)\n",
       "</pre>\n"
      ],
      "text/plain": [
       "\u001b[1m Total params: \u001b[0m\u001b[38;5;34m271,639\u001b[0m (1.04 MB)\n"
      ]
     },
     "metadata": {},
     "output_type": "display_data"
    },
    {
     "data": {
      "text/html": [
       "<pre style=\"white-space:pre;overflow-x:auto;line-height:normal;font-family:Menlo,'DejaVu Sans Mono',consolas,'Courier New',monospace\"><span style=\"font-weight: bold\"> Trainable params: </span><span style=\"color: #00af00; text-decoration-color: #00af00\">271,639</span> (1.04 MB)\n",
       "</pre>\n"
      ],
      "text/plain": [
       "\u001b[1m Trainable params: \u001b[0m\u001b[38;5;34m271,639\u001b[0m (1.04 MB)\n"
      ]
     },
     "metadata": {},
     "output_type": "display_data"
    },
    {
     "data": {
      "text/html": [
       "<pre style=\"white-space:pre;overflow-x:auto;line-height:normal;font-family:Menlo,'DejaVu Sans Mono',consolas,'Courier New',monospace\"><span style=\"font-weight: bold\"> Non-trainable params: </span><span style=\"color: #00af00; text-decoration-color: #00af00\">0</span> (0.00 B)\n",
       "</pre>\n"
      ],
      "text/plain": [
       "\u001b[1m Non-trainable params: \u001b[0m\u001b[38;5;34m0\u001b[0m (0.00 B)\n"
      ]
     },
     "metadata": {},
     "output_type": "display_data"
    }
   ],
   "source": [
    "ncf_model = create_ncf_model(num_users, num_movies, embedding_dim=50)\n",
    "\n",
    "ncf_model.compile(\n",
    "    optimizer=Adam(learning_rate=0.001),\n",
    "    loss='mse',\n",
    "    metrics=['mae']\n",
    ")\n",
    "\n",
    "print(\"\\nModel Architecture:\")\n",
    "ncf_model.summary()"
   ]
  },
  {
   "cell_type": "code",
   "execution_count": 67,
   "id": "7c87cf76",
   "metadata": {},
   "outputs": [
    {
     "name": "stdout",
     "output_type": "stream",
     "text": [
      "Epoch 1/10\n",
      "\u001b[1m282/282\u001b[0m \u001b[32m━━━━━━━━━━━━━━━━━━━━\u001b[0m\u001b[37m\u001b[0m \u001b[1m2s\u001b[0m 2ms/step - loss: 0.0674 - mae: 0.2078 - val_loss: 0.0578 - val_mae: 0.1925\n",
      "Epoch 2/10\n",
      "\u001b[1m282/282\u001b[0m \u001b[32m━━━━━━━━━━━━━━━━━━━━\u001b[0m\u001b[37m\u001b[0m \u001b[1m0s\u001b[0m 1ms/step - loss: 0.0562 - mae: 0.1880 - val_loss: 0.0561 - val_mae: 0.1874\n",
      "Epoch 3/10\n",
      "\u001b[1m282/282\u001b[0m \u001b[32m━━━━━━━━━━━━━━━━━━━━\u001b[0m\u001b[37m\u001b[0m \u001b[1m0s\u001b[0m 964us/step - loss: 0.0536 - mae: 0.1829 - val_loss: 0.0552 - val_mae: 0.1852\n",
      "Epoch 4/10\n",
      "\u001b[1m282/282\u001b[0m \u001b[32m━━━━━━━━━━━━━━━━━━━━\u001b[0m\u001b[37m\u001b[0m \u001b[1m0s\u001b[0m 976us/step - loss: 0.0480 - mae: 0.1720 - val_loss: 0.0544 - val_mae: 0.1821\n",
      "Epoch 5/10\n",
      "\u001b[1m282/282\u001b[0m \u001b[32m━━━━━━━━━━━━━━━━━━━━\u001b[0m\u001b[37m\u001b[0m \u001b[1m0s\u001b[0m 955us/step - loss: 0.0401 - mae: 0.1554 - val_loss: 0.0558 - val_mae: 0.1826\n",
      "Epoch 6/10\n",
      "\u001b[1m282/282\u001b[0m \u001b[32m━━━━━━━━━━━━━━━━━━━━\u001b[0m\u001b[37m\u001b[0m \u001b[1m0s\u001b[0m 990us/step - loss: 0.0325 - mae: 0.1379 - val_loss: 0.0574 - val_mae: 0.1853\n",
      "Epoch 7/10\n",
      "\u001b[1m282/282\u001b[0m \u001b[32m━━━━━━━━━━━━━━━━━━━━\u001b[0m\u001b[37m\u001b[0m \u001b[1m0s\u001b[0m 1ms/step - loss: 0.0268 - mae: 0.1239 - val_loss: 0.0596 - val_mae: 0.1871\n",
      "Epoch 8/10\n",
      "\u001b[1m282/282\u001b[0m \u001b[32m━━━━━━━━━━━━━━━━━━━━\u001b[0m\u001b[37m\u001b[0m \u001b[1m0s\u001b[0m 1ms/step - loss: 0.0227 - mae: 0.1124 - val_loss: 0.0622 - val_mae: 0.1909\n",
      "Epoch 9/10\n",
      "\u001b[1m282/282\u001b[0m \u001b[32m━━━━━━━━━━━━━━━━━━━━\u001b[0m\u001b[37m\u001b[0m \u001b[1m0s\u001b[0m 975us/step - loss: 0.0197 - mae: 0.1033 - val_loss: 0.0643 - val_mae: 0.1938\n",
      "Epoch 10/10\n",
      "\u001b[1m282/282\u001b[0m \u001b[32m━━━━━━━━━━━━━━━━━━━━\u001b[0m\u001b[37m\u001b[0m \u001b[1m0s\u001b[0m 1ms/step - loss: 0.0174 - mae: 0.0960 - val_loss: 0.0657 - val_mae: 0.1954\n",
      "Test Loss (MSE): 0.0633\n",
      "Test MAE: 0.1915\n"
     ]
    }
   ],
   "source": [
    "history = ncf_model.fit(\n",
    "    [X_train_user, X_train_movie],\n",
    "    y_train,\n",
    "    batch_size=256,\n",
    "    epochs=10,\n",
    "    validation_split=0.1,\n",
    "    verbose=1\n",
    ")\n",
    "\n",
    "test_loss, test_mae = ncf_model.evaluate([X_test_user, X_test_movie], y_test, verbose=0)\n",
    "print(f\"Test Loss (MSE): {test_loss:.4f}\")\n",
    "print(f\"Test MAE: {test_mae:.4f}\")"
   ]
  },
  {
   "cell_type": "code",
   "execution_count": 68,
   "id": "5c9d65c7",
   "metadata": {},
   "outputs": [],
   "source": [
    "def create_simple_embedding_model(num_users, num_movies, embedding_dim=50):\n",
    "    user_input = layers.Input(shape=(1,), name='user_input')\n",
    "    movie_input = layers.Input(shape=(1,), name='movie_input')\n",
    "    \n",
    "    user_embedding = layers.Embedding(\n",
    "        num_users, embedding_dim,\n",
    "        embeddings_regularizer=l2(1e-6)\n",
    "    )(user_input)\n",
    "    user_vec = layers.Flatten()(user_embedding)\n",
    "    \n",
    "    movie_embedding = layers.Embedding(\n",
    "        num_movies, embedding_dim,\n",
    "        embeddings_regularizer=l2(1e-6)\n",
    "    )(movie_input)\n",
    "    movie_vec = layers.Flatten()(movie_embedding)\n",
    "    \n",
    "    dot_product = layers.Dot(axes=1)([user_vec, movie_vec])\n",
    "    \n",
    "    user_bias = layers.Embedding(num_users, 1)(user_input)\n",
    "    user_bias = layers.Flatten()(user_bias)\n",
    "    \n",
    "    movie_bias = layers.Embedding(num_movies, 1)(movie_input)\n",
    "    movie_bias = layers.Flatten()(movie_bias)\n",
    "    \n",
    "    output = layers.Add()([dot_product, user_bias, movie_bias])\n",
    "    output = layers.Activation('sigmoid')(output)\n",
    "    \n",
    "    model = Model(inputs=[user_input, movie_input], outputs=output)\n",
    "    \n",
    "    return model"
   ]
  },
  {
   "cell_type": "code",
   "execution_count": null,
   "id": "4da750e8",
   "metadata": {},
   "outputs": [],
   "source": [
    "def recommend_movies(user_id, N=10, model=ncf_model):\n",
    "    if user_id not in user2idx:\n",
    "        print(f\"User {user_id} not found\")\n",
    "        return []\n",
    "    \n",
    "    user_idx = user2idx[user_id]\n",
    "    \n",
    "    user_train_movies = train_data[train_data['user_id'] == user_id]['item_id'].values\n",
    "    rated_movie_indices = [movie2idx[m] for m in user_train_movies if m in movie2idx]\n",
    "    \n",
    "    all_movie_indices = list(range(num_movies))\n",
    "    \n",
    "    unrated_movie_indices = [m for m in all_movie_indices if m not in rated_movie_indices]\n",
    "    \n",
    "    if len(unrated_movie_indices) == 0:\n",
    "        return []\n",
    "    \n",
    "    user_indices = np.array([user_idx] * len(unrated_movie_indices))\n",
    "    movie_indices = np.array(unrated_movie_indices)\n",
    "    \n",
    "    predictions = model.predict([user_indices, movie_indices], verbose=0)\n",
    "    predictions = predictions.flatten()\n",
    "    \n",
    "    predictions = predictions * 4 + 1\n",
    "    \n",
    "    top_indices = np.argsort(predictions)[::-1][:N]\n",
    "    \n",
    "    recommendations = []\n",
    "    for idx in top_indices:\n",
    "        movie_idx = unrated_movie_indices[idx]\n",
    "        movie_id = idx2movie[movie_idx]\n",
    "        movie_title = movies[movies['movie_id'] == movie_id]['title'].values\n",
    "        predicted_rating = predictions[idx]\n",
    "        \n",
    "        if len(movie_title) > 0:\n",
    "            recommendations.append((movie_id, movie_title[0], predicted_rating))\n",
    "    \n",
    "    return recommendations"
   ]
  },
  {
   "cell_type": "code",
   "execution_count": 70,
   "id": "6a67fae1",
   "metadata": {},
   "outputs": [],
   "source": [
    "def get_user_embedding(user_id, model=ncf_model):\n",
    "    if user_id not in user2idx:\n",
    "        return None\n",
    "    \n",
    "    user_idx = user2idx[user_id]\n",
    "    \n",
    "    embedding_layer = model.get_layer('user_embedding_gmf')\n",
    "    embeddings = embedding_layer.get_weights()[0]\n",
    "    \n",
    "    return embeddings[user_idx]\n"
   ]
  },
  {
   "cell_type": "code",
   "execution_count": 71,
   "id": "b002a3d4",
   "metadata": {},
   "outputs": [],
   "source": [
    "def get_movie_embedding(movie_id, model=ncf_model):\n",
    "    if movie_id not in movie2idx:\n",
    "        return None\n",
    "    \n",
    "    movie_idx = movie2idx[movie_id]\n",
    "    \n",
    "    embedding_layer = model.get_layer('movie_embedding_gmf')\n",
    "    embeddings = embedding_layer.get_weights()[0]\n",
    "    \n",
    "    return embeddings[movie_idx]"
   ]
  },
  {
   "cell_type": "code",
   "execution_count": 72,
   "id": "2d42156c",
   "metadata": {},
   "outputs": [],
   "source": [
    "def find_similar_movies_by_embedding(movie_id, N=10):\n",
    "    movie_embedding = get_movie_embedding(movie_id)\n",
    "    \n",
    "    if movie_embedding is None:\n",
    "        return []\n",
    "    \n",
    "    embedding_layer = ncf_model.get_layer('movie_embedding_gmf')\n",
    "    all_embeddings = embedding_layer.get_weights()[0]\n",
    "    \n",
    "    similarities = np.dot(all_embeddings, movie_embedding) / (\n",
    "        np.linalg.norm(all_embeddings, axis=1) * np.linalg.norm(movie_embedding)\n",
    "    )\n",
    "    \n",
    "    movie_idx = movie2idx[movie_id]\n",
    "    similarities[movie_idx] = -1  \n",
    "    \n",
    "    top_indices = np.argsort(similarities)[::-1][:N]\n",
    "    \n",
    "    similar_movies = []\n",
    "    for idx in top_indices:\n",
    "        similar_movie_id = idx2movie[idx]\n",
    "        movie_title = movies[movies['movie_id'] == similar_movie_id]['title'].values\n",
    "        if len(movie_title) > 0:\n",
    "            similar_movies.append((similar_movie_id, movie_title[0], similarities[idx]))\n",
    "    \n",
    "    return similar_movies"
   ]
  },
  {
   "cell_type": "code",
   "execution_count": null,
   "id": "78f38e52",
   "metadata": {},
   "outputs": [
    {
     "name": "stdout",
     "output_type": "stream",
     "text": [
      "\n",
      "Neural Recommendations for User 196:\n",
      "1. First Wives Club, The (1996) (Predicted: 4.65)\n",
      "2. Shawshank Redemption, The (1994) (Predicted: 4.64)\n",
      "3. Schindler's List (1993) (Predicted: 4.63)\n",
      "4. Titanic (1997) (Predicted: 4.61)\n",
      "5. Scream (1996) (Predicted: 4.61)\n",
      "6. Amadeus (1984) (Predicted: 4.57)\n",
      "7. Phenomenon (1996) (Predicted: 4.54)\n",
      "8. Chasing Amy (1997) (Predicted: 4.53)\n",
      "9. Happy Gilmore (1996) (Predicted: 4.51)\n",
      "10. Contact (1997) (Predicted: 4.51)\n"
     ]
    }
   ],
   "source": [
    "test_user = 196\n",
    "\n",
    "print(f\"\\nNeural Recommendations for User {test_user}:\")\n",
    "neural_recs = recommend_movies(test_user, N=10)\n",
    "\n",
    "for idx, (movie_id, title, pred_rating) in enumerate(neural_recs, 1):\n",
    "    print(f\"{idx}. {title} (Predicted: {pred_rating:.2f})\")\n"
   ]
  },
  {
   "cell_type": "code",
   "execution_count": 75,
   "id": "689912ae",
   "metadata": {},
   "outputs": [
    {
     "name": "stdout",
     "output_type": "stream",
     "text": [
      "\n",
      "Movies similar to 'Toy Story' (ID: 1):\n",
      "1. Lord of Illusions (1995) (Similarity: 0.543)\n",
      "2. Fly Away Home (1996) (Similarity: 0.521)\n",
      "3. Guantanamera (1994) (Similarity: 0.494)\n",
      "4. Color of Night (1994) (Similarity: 0.449)\n",
      "5. Candyman: Farewell to the Flesh (1995) (Similarity: 0.428)\n"
     ]
    }
   ],
   "source": [
    "toy_story_id = 1  \n",
    "print(f\"\\nMovies similar to 'Toy Story' (ID: {toy_story_id}):\")\n",
    "\n",
    "similar = find_similar_movies_by_embedding(toy_story_id, N=5)\n",
    "for idx, (movie_id, title, similarity) in enumerate(similar, 1):\n",
    "    print(f\"{idx}. {title} (Similarity: {similarity:.3f})\")\n"
   ]
  },
  {
   "cell_type": "code",
   "execution_count": 77,
   "id": "92e34399",
   "metadata": {},
   "outputs": [
    {
     "name": "stdout",
     "output_type": "stream",
     "text": [
      "\n",
      "Neural Collaborative Filtering:\n",
      "RMSE: 0.9840\n",
      "MAE: 0.7659\n"
     ]
    }
   ],
   "source": [
    "predictions_test = ncf_model.predict([X_test_user, X_test_movie], verbose=0)\n",
    "predictions_test = predictions_test.flatten() * 4 + 1  # Denormalize\n",
    "actual_test = y_test * 4 + 1\n",
    "\n",
    "rmse = np.sqrt(np.mean((predictions_test - actual_test) ** 2))\n",
    "mae = np.mean(np.abs(predictions_test - actual_test))\n",
    "\n",
    "print(f\"\\nNeural Collaborative Filtering:\")\n",
    "print(f\"RMSE: {rmse:.4f}\")\n",
    "print(f\"MAE: {mae:.4f}\")\n",
    "\n"
   ]
  },
  {
   "cell_type": "code",
   "execution_count": 78,
   "id": "f8e132cd",
   "metadata": {},
   "outputs": [],
   "source": [
    "def precision_at_k_neural(user_id, recommended_movies, test_data, k=10):\n",
    "    relevant_movies = test_data[(test_data['user_id'] == user_id) & \n",
    "                                (test_data['rating'] >= 4)]['item_id'].tolist()\n",
    "    \n",
    "    if len(relevant_movies) == 0:\n",
    "        return 0\n",
    "    \n",
    "    top_k = recommended_movies[:k]\n",
    "    hits = len(set(top_k).intersection(set(relevant_movies)))\n",
    "    \n",
    "    return hits / k"
   ]
  },
  {
   "cell_type": "code",
   "execution_count": 79,
   "id": "51987317",
   "metadata": {},
   "outputs": [],
   "source": [
    "def recall_at_k_neural(user_id, recommended_movies, test_data, k=10):\n",
    "    relevant_movies = test_data[(test_data['user_id'] == user_id) & \n",
    "                                (test_data['rating'] >= 4)]['item_id'].tolist()\n",
    "    \n",
    "    if len(relevant_movies) == 0:\n",
    "        return 0\n",
    "    \n",
    "    top_k = recommended_movies[:k]\n",
    "    hits = len(set(top_k).intersection(set(relevant_movies)))\n",
    "    \n",
    "    return hits / len(relevant_movies)"
   ]
  },
  {
   "cell_type": "code",
   "execution_count": 80,
   "id": "afefc53a",
   "metadata": {},
   "outputs": [],
   "source": [
    "def ndcg_at_k_neural(user_id, recommended_movies, test_data, k=10):\n",
    "    user_test_ratings = test_data[test_data['user_id'] == user_id]\n",
    "    \n",
    "    if len(user_test_ratings) == 0:\n",
    "        return 0\n",
    "    \n",
    "    top_k = recommended_movies[:k]\n",
    "    \n",
    "    dcg = 0\n",
    "    for idx, movie_id in enumerate(top_k):\n",
    "        rating = user_test_ratings[user_test_ratings['item_id'] == movie_id]['rating'].values\n",
    "        if len(rating) > 0:\n",
    "            rel = rating[0]\n",
    "            dcg += (2**rel - 1) / np.log2(idx + 2)\n",
    "    \n",
    "    ideal_ratings = sorted(user_test_ratings['rating'].values, reverse=True)[:k]\n",
    "    idcg = 0\n",
    "    for idx, rating in enumerate(ideal_ratings):\n",
    "        idcg += (2**rating - 1) / np.log2(idx + 2)\n",
    "    \n",
    "    if idcg == 0:\n",
    "        return 0\n",
    "    \n",
    "    return dcg / idcg"
   ]
  },
  {
   "cell_type": "code",
   "execution_count": null,
   "id": "f181c5a9",
   "metadata": {},
   "outputs": [
    {
     "name": "stdout",
     "output_type": "stream",
     "text": [
      "Evaluating on 50 users...\n",
      "\n",
      "NEURAL (NCF) Results:\n",
      "Precision@10: 0.1800\n",
      "Recall@10: 0.0751\n",
      "NDCG@10: 0.1820\n"
     ]
    }
   ],
   "source": [
    "def evaluate_neural_model(k=10, num_users=50):\n",
    "    precision_scores = []\n",
    "    recall_scores = []\n",
    "    ndcg_scores = []\n",
    "    \n",
    "    test_users_with_ratings = []\n",
    "    for user_id in test_data['user_id'].unique():\n",
    "        if user_id in user2idx:\n",
    "            user_train = train_data[train_data['user_id'] == user_id]\n",
    "            user_test = test_data[(test_data['user_id'] == user_id) & \n",
    "                                 (test_data['rating'] >= 4)]\n",
    "            \n",
    "            if len(user_train) > 0 and len(user_test) > 0:\n",
    "                test_users_with_ratings.append(user_id)\n",
    "    \n",
    "    test_users_sample = test_users_with_ratings[:num_users]\n",
    "    \n",
    "    print(f\"Evaluating on {len(test_users_sample)} users...\")\n",
    "    \n",
    "    evaluated_count = 0\n",
    "    for user_id in test_users_sample:\n",
    "        recs = recommend_movies(user_id, N=k)\n",
    "        \n",
    "        if len(recs) > 0:\n",
    "            movie_ids = [movie_id for movie_id, title, rating in recs]\n",
    "            \n",
    "            precision = precision_at_k_neural(user_id, movie_ids, test_data, k)\n",
    "            recall = recall_at_k_neural(user_id, movie_ids, test_data, k)\n",
    "            ndcg = ndcg_at_k_neural(user_id, movie_ids, test_data, k)\n",
    "            \n",
    "            precision_scores.append(precision)\n",
    "            recall_scores.append(recall)\n",
    "            ndcg_scores.append(ndcg)\n",
    "            evaluated_count += 1\n",
    "    \n",
    "    if evaluated_count == 0:\n",
    "        return {'precision': 0, 'recall': 0, 'ndcg': 0}\n",
    "    \n",
    "    print(f\"\\nNEURAL (NCF) Results:\")\n",
    "    print(f\"Precision@{k}: {np.mean(precision_scores):.4f}\")\n",
    "    print(f\"Recall@{k}: {np.mean(recall_scores):.4f}\")\n",
    "    print(f\"NDCG@{k}: {np.mean(ndcg_scores):.4f}\")\n",
    "    \n",
    "    return {\n",
    "        'precision': np.mean(precision_scores),\n",
    "        'recall': np.mean(recall_scores),\n",
    "        'ndcg': np.mean(ndcg_scores)\n",
    "    }\n",
    "\n",
    "neural_results = evaluate_neural_model(k=10, num_users=50)\n"
   ]
  },
  {
   "cell_type": "code",
   "execution_count": null,
   "id": "73e28ba4",
   "metadata": {},
   "outputs": [],
   "source": []
  }
 ],
 "metadata": {
  "kernelspec": {
   "display_name": ".venv",
   "language": "python",
   "name": "python3"
  },
  "language_info": {
   "codemirror_mode": {
    "name": "ipython",
    "version": 3
   },
   "file_extension": ".py",
   "mimetype": "text/x-python",
   "name": "python",
   "nbconvert_exporter": "python",
   "pygments_lexer": "ipython3",
   "version": "3.12.3"
  }
 },
 "nbformat": 4,
 "nbformat_minor": 5
}
